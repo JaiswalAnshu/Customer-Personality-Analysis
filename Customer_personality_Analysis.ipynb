{
 "cells": [
  {
   "cell_type": "markdown",
   "id": "8bb0a791-647e-47fc-aaaa-7ab1cba8609e",
   "metadata": {},
   "source": [
    "# Customer personality Analysis"
   ]
  },
  {
   "cell_type": "markdown",
   "id": "611bd062-3a95-4bcc-8e64-70e50a48cf64",
   "metadata": {},
   "source": [
    "**Analyzing the customers of a company to segregate it into various segments based on varied parameters :**\n",
    "\n",
    "Objective :\n",
    "\n",
    "- The primary aim of this analysis is to get the detailed analysis of a company’s ideal customers.\n",
    "- This will help the business to modify its products based on its target customers from different types of customer segments.\n",
    "- The dataset under consideration contains crucial information about the details of the customers , Products details , Promotion and Place .\n",
    "\n",
    "\n",
    "Dataset Details :  \n",
    "This dataset provides insights into the details of \n",
    "- People\n",
    "- Products\n",
    "- Promotion\n",
    "- Place\n",
    "\n",
    "Description :  \n",
    "- Customer Personality Analysis is a detailed analysis of a company’s ideal customers.\n",
    "- It helps a business to better understand its customers and makes it easier for them to modify products according to the specific needs, behaviors and concerns of different types of customers.\n",
    "- This ultimately helps the business to modify its products based on its target customers from different types of customer segments."
   ]
  },
  {
   "cell_type": "code",
   "execution_count": 323,
   "id": "bd12af96-d464-4709-ab23-739704b5ed10",
   "metadata": {},
   "outputs": [],
   "source": [
    "# Importing the required libraries \n",
    "\n",
    "import pandas as pd \n",
    "import numpy as np \n",
    "import matplotlib.pyplot as plt\n",
    "%matplotlib inline\n",
    "import seaborn as sns\n",
    "import datetime as dt\n",
    "import warnings\n",
    "warnings.filterwarnings(\"ignore\")"
   ]
  },
  {
   "cell_type": "code",
   "execution_count": 16,
   "id": "4b5d390b-ff6d-4bcc-8b34-574370b6e0a3",
   "metadata": {},
   "outputs": [],
   "source": [
    "# Reading the csv file\n",
    "\n",
    "df = pd.read_csv(r\"C:\\Users\\bhims\\Desktop\\Projects\\COGNORISE INFOTECH Internship\\Customer Personality Analysis\\marketing_campaign.csv\")"
   ]
  },
  {
   "cell_type": "markdown",
   "id": "2c63f762-1192-437d-bf8d-71212f42a281",
   "metadata": {},
   "source": [
    "### Dataset Understanding  and data cleaning \n",
    "\n",
    "In order to, get a full grasp of what steps should be taken to clean the dataset. Let us have a look at the information in data."
   ]
  },
  {
   "cell_type": "code",
   "execution_count": 17,
   "id": "4d12c181-12be-41de-812f-afed013a1c3a",
   "metadata": {},
   "outputs": [
    {
     "data": {
      "text/plain": [
       "(2240, 29)"
      ]
     },
     "execution_count": 17,
     "metadata": {},
     "output_type": "execute_result"
    }
   ],
   "source": [
    "# Finding total rows and columns of the dataset\n",
    "\n",
    "df.shape"
   ]
  },
  {
   "cell_type": "code",
   "execution_count": 18,
   "id": "55277812-4bf7-4c6a-a582-3cd677ba3ebd",
   "metadata": {
    "scrolled": true
   },
   "outputs": [
    {
     "data": {
      "text/html": [
       "<div>\n",
       "<style scoped>\n",
       "    .dataframe tbody tr th:only-of-type {\n",
       "        vertical-align: middle;\n",
       "    }\n",
       "\n",
       "    .dataframe tbody tr th {\n",
       "        vertical-align: top;\n",
       "    }\n",
       "\n",
       "    .dataframe thead th {\n",
       "        text-align: right;\n",
       "    }\n",
       "</style>\n",
       "<table border=\"1\" class=\"dataframe\">\n",
       "  <thead>\n",
       "    <tr style=\"text-align: right;\">\n",
       "      <th></th>\n",
       "      <th>ID</th>\n",
       "      <th>Year_Birth</th>\n",
       "      <th>Education</th>\n",
       "      <th>Marital_Status</th>\n",
       "      <th>Income</th>\n",
       "      <th>Kidhome</th>\n",
       "      <th>Teenhome</th>\n",
       "      <th>Dt_Customer</th>\n",
       "      <th>Recency</th>\n",
       "      <th>MntWines</th>\n",
       "      <th>...</th>\n",
       "      <th>NumWebVisitsMonth</th>\n",
       "      <th>AcceptedCmp3</th>\n",
       "      <th>AcceptedCmp4</th>\n",
       "      <th>AcceptedCmp5</th>\n",
       "      <th>AcceptedCmp1</th>\n",
       "      <th>AcceptedCmp2</th>\n",
       "      <th>Complain</th>\n",
       "      <th>Z_CostContact</th>\n",
       "      <th>Z_Revenue</th>\n",
       "      <th>Response</th>\n",
       "    </tr>\n",
       "  </thead>\n",
       "  <tbody>\n",
       "    <tr>\n",
       "      <th>0</th>\n",
       "      <td>5524</td>\n",
       "      <td>1957</td>\n",
       "      <td>Graduation</td>\n",
       "      <td>Single</td>\n",
       "      <td>58138.0</td>\n",
       "      <td>0</td>\n",
       "      <td>0</td>\n",
       "      <td>4-Sep-12</td>\n",
       "      <td>58</td>\n",
       "      <td>635</td>\n",
       "      <td>...</td>\n",
       "      <td>7</td>\n",
       "      <td>0</td>\n",
       "      <td>0</td>\n",
       "      <td>0</td>\n",
       "      <td>0</td>\n",
       "      <td>0</td>\n",
       "      <td>0</td>\n",
       "      <td>3</td>\n",
       "      <td>11</td>\n",
       "      <td>1</td>\n",
       "    </tr>\n",
       "    <tr>\n",
       "      <th>1</th>\n",
       "      <td>2174</td>\n",
       "      <td>1954</td>\n",
       "      <td>Graduation</td>\n",
       "      <td>Single</td>\n",
       "      <td>46344.0</td>\n",
       "      <td>1</td>\n",
       "      <td>1</td>\n",
       "      <td>8-Mar-14</td>\n",
       "      <td>38</td>\n",
       "      <td>11</td>\n",
       "      <td>...</td>\n",
       "      <td>5</td>\n",
       "      <td>0</td>\n",
       "      <td>0</td>\n",
       "      <td>0</td>\n",
       "      <td>0</td>\n",
       "      <td>0</td>\n",
       "      <td>0</td>\n",
       "      <td>3</td>\n",
       "      <td>11</td>\n",
       "      <td>0</td>\n",
       "    </tr>\n",
       "    <tr>\n",
       "      <th>2</th>\n",
       "      <td>4141</td>\n",
       "      <td>1965</td>\n",
       "      <td>Graduation</td>\n",
       "      <td>Together</td>\n",
       "      <td>71613.0</td>\n",
       "      <td>0</td>\n",
       "      <td>0</td>\n",
       "      <td>21-Aug-13</td>\n",
       "      <td>26</td>\n",
       "      <td>426</td>\n",
       "      <td>...</td>\n",
       "      <td>4</td>\n",
       "      <td>0</td>\n",
       "      <td>0</td>\n",
       "      <td>0</td>\n",
       "      <td>0</td>\n",
       "      <td>0</td>\n",
       "      <td>0</td>\n",
       "      <td>3</td>\n",
       "      <td>11</td>\n",
       "      <td>0</td>\n",
       "    </tr>\n",
       "    <tr>\n",
       "      <th>3</th>\n",
       "      <td>6182</td>\n",
       "      <td>1984</td>\n",
       "      <td>Graduation</td>\n",
       "      <td>Together</td>\n",
       "      <td>26646.0</td>\n",
       "      <td>1</td>\n",
       "      <td>0</td>\n",
       "      <td>10-Feb-14</td>\n",
       "      <td>26</td>\n",
       "      <td>11</td>\n",
       "      <td>...</td>\n",
       "      <td>6</td>\n",
       "      <td>0</td>\n",
       "      <td>0</td>\n",
       "      <td>0</td>\n",
       "      <td>0</td>\n",
       "      <td>0</td>\n",
       "      <td>0</td>\n",
       "      <td>3</td>\n",
       "      <td>11</td>\n",
       "      <td>0</td>\n",
       "    </tr>\n",
       "    <tr>\n",
       "      <th>4</th>\n",
       "      <td>5324</td>\n",
       "      <td>1981</td>\n",
       "      <td>PhD</td>\n",
       "      <td>Married</td>\n",
       "      <td>58293.0</td>\n",
       "      <td>1</td>\n",
       "      <td>0</td>\n",
       "      <td>19-Jan-14</td>\n",
       "      <td>94</td>\n",
       "      <td>173</td>\n",
       "      <td>...</td>\n",
       "      <td>5</td>\n",
       "      <td>0</td>\n",
       "      <td>0</td>\n",
       "      <td>0</td>\n",
       "      <td>0</td>\n",
       "      <td>0</td>\n",
       "      <td>0</td>\n",
       "      <td>3</td>\n",
       "      <td>11</td>\n",
       "      <td>0</td>\n",
       "    </tr>\n",
       "    <tr>\n",
       "      <th>5</th>\n",
       "      <td>7446</td>\n",
       "      <td>1967</td>\n",
       "      <td>Master</td>\n",
       "      <td>Together</td>\n",
       "      <td>62513.0</td>\n",
       "      <td>0</td>\n",
       "      <td>1</td>\n",
       "      <td>9-Sep-13</td>\n",
       "      <td>16</td>\n",
       "      <td>520</td>\n",
       "      <td>...</td>\n",
       "      <td>6</td>\n",
       "      <td>0</td>\n",
       "      <td>0</td>\n",
       "      <td>0</td>\n",
       "      <td>0</td>\n",
       "      <td>0</td>\n",
       "      <td>0</td>\n",
       "      <td>3</td>\n",
       "      <td>11</td>\n",
       "      <td>0</td>\n",
       "    </tr>\n",
       "    <tr>\n",
       "      <th>6</th>\n",
       "      <td>965</td>\n",
       "      <td>1971</td>\n",
       "      <td>Graduation</td>\n",
       "      <td>Divorced</td>\n",
       "      <td>55635.0</td>\n",
       "      <td>0</td>\n",
       "      <td>1</td>\n",
       "      <td>13-Nov-12</td>\n",
       "      <td>34</td>\n",
       "      <td>235</td>\n",
       "      <td>...</td>\n",
       "      <td>6</td>\n",
       "      <td>0</td>\n",
       "      <td>0</td>\n",
       "      <td>0</td>\n",
       "      <td>0</td>\n",
       "      <td>0</td>\n",
       "      <td>0</td>\n",
       "      <td>3</td>\n",
       "      <td>11</td>\n",
       "      <td>0</td>\n",
       "    </tr>\n",
       "    <tr>\n",
       "      <th>7</th>\n",
       "      <td>6177</td>\n",
       "      <td>1985</td>\n",
       "      <td>PhD</td>\n",
       "      <td>Married</td>\n",
       "      <td>33454.0</td>\n",
       "      <td>1</td>\n",
       "      <td>0</td>\n",
       "      <td>5-Aug-13</td>\n",
       "      <td>32</td>\n",
       "      <td>76</td>\n",
       "      <td>...</td>\n",
       "      <td>8</td>\n",
       "      <td>0</td>\n",
       "      <td>0</td>\n",
       "      <td>0</td>\n",
       "      <td>0</td>\n",
       "      <td>0</td>\n",
       "      <td>0</td>\n",
       "      <td>3</td>\n",
       "      <td>11</td>\n",
       "      <td>0</td>\n",
       "    </tr>\n",
       "    <tr>\n",
       "      <th>8</th>\n",
       "      <td>4855</td>\n",
       "      <td>1974</td>\n",
       "      <td>PhD</td>\n",
       "      <td>Together</td>\n",
       "      <td>30351.0</td>\n",
       "      <td>1</td>\n",
       "      <td>0</td>\n",
       "      <td>6-Jun-13</td>\n",
       "      <td>19</td>\n",
       "      <td>14</td>\n",
       "      <td>...</td>\n",
       "      <td>9</td>\n",
       "      <td>0</td>\n",
       "      <td>0</td>\n",
       "      <td>0</td>\n",
       "      <td>0</td>\n",
       "      <td>0</td>\n",
       "      <td>0</td>\n",
       "      <td>3</td>\n",
       "      <td>11</td>\n",
       "      <td>1</td>\n",
       "    </tr>\n",
       "    <tr>\n",
       "      <th>9</th>\n",
       "      <td>5899</td>\n",
       "      <td>1950</td>\n",
       "      <td>PhD</td>\n",
       "      <td>Together</td>\n",
       "      <td>5648.0</td>\n",
       "      <td>1</td>\n",
       "      <td>1</td>\n",
       "      <td>13-Mar-14</td>\n",
       "      <td>68</td>\n",
       "      <td>28</td>\n",
       "      <td>...</td>\n",
       "      <td>20</td>\n",
       "      <td>1</td>\n",
       "      <td>0</td>\n",
       "      <td>0</td>\n",
       "      <td>0</td>\n",
       "      <td>0</td>\n",
       "      <td>0</td>\n",
       "      <td>3</td>\n",
       "      <td>11</td>\n",
       "      <td>0</td>\n",
       "    </tr>\n",
       "  </tbody>\n",
       "</table>\n",
       "<p>10 rows × 29 columns</p>\n",
       "</div>"
      ],
      "text/plain": [
       "     ID  Year_Birth   Education Marital_Status   Income  Kidhome  Teenhome  \\\n",
       "0  5524        1957  Graduation         Single  58138.0        0         0   \n",
       "1  2174        1954  Graduation         Single  46344.0        1         1   \n",
       "2  4141        1965  Graduation       Together  71613.0        0         0   \n",
       "3  6182        1984  Graduation       Together  26646.0        1         0   \n",
       "4  5324        1981         PhD        Married  58293.0        1         0   \n",
       "5  7446        1967      Master       Together  62513.0        0         1   \n",
       "6   965        1971  Graduation       Divorced  55635.0        0         1   \n",
       "7  6177        1985         PhD        Married  33454.0        1         0   \n",
       "8  4855        1974         PhD       Together  30351.0        1         0   \n",
       "9  5899        1950         PhD       Together   5648.0        1         1   \n",
       "\n",
       "  Dt_Customer  Recency  MntWines  ...  NumWebVisitsMonth  AcceptedCmp3  \\\n",
       "0    4-Sep-12       58       635  ...                  7             0   \n",
       "1    8-Mar-14       38        11  ...                  5             0   \n",
       "2   21-Aug-13       26       426  ...                  4             0   \n",
       "3   10-Feb-14       26        11  ...                  6             0   \n",
       "4   19-Jan-14       94       173  ...                  5             0   \n",
       "5    9-Sep-13       16       520  ...                  6             0   \n",
       "6   13-Nov-12       34       235  ...                  6             0   \n",
       "7    5-Aug-13       32        76  ...                  8             0   \n",
       "8    6-Jun-13       19        14  ...                  9             0   \n",
       "9   13-Mar-14       68        28  ...                 20             1   \n",
       "\n",
       "   AcceptedCmp4  AcceptedCmp5  AcceptedCmp1  AcceptedCmp2  Complain  \\\n",
       "0             0             0             0             0         0   \n",
       "1             0             0             0             0         0   \n",
       "2             0             0             0             0         0   \n",
       "3             0             0             0             0         0   \n",
       "4             0             0             0             0         0   \n",
       "5             0             0             0             0         0   \n",
       "6             0             0             0             0         0   \n",
       "7             0             0             0             0         0   \n",
       "8             0             0             0             0         0   \n",
       "9             0             0             0             0         0   \n",
       "\n",
       "   Z_CostContact  Z_Revenue  Response  \n",
       "0              3         11         1  \n",
       "1              3         11         0  \n",
       "2              3         11         0  \n",
       "3              3         11         0  \n",
       "4              3         11         0  \n",
       "5              3         11         0  \n",
       "6              3         11         0  \n",
       "7              3         11         0  \n",
       "8              3         11         1  \n",
       "9              3         11         0  \n",
       "\n",
       "[10 rows x 29 columns]"
      ]
     },
     "execution_count": 18,
     "metadata": {},
     "output_type": "execute_result"
    }
   ],
   "source": [
    "# Glimps of the top rows of the dataset \n",
    "\n",
    "df.head(10)"
   ]
  },
  {
   "cell_type": "code",
   "execution_count": 19,
   "id": "37964316-3224-41b7-a0a1-6c44c7738ddd",
   "metadata": {},
   "outputs": [
    {
     "data": {
      "text/html": [
       "<div>\n",
       "<style scoped>\n",
       "    .dataframe tbody tr th:only-of-type {\n",
       "        vertical-align: middle;\n",
       "    }\n",
       "\n",
       "    .dataframe tbody tr th {\n",
       "        vertical-align: top;\n",
       "    }\n",
       "\n",
       "    .dataframe thead th {\n",
       "        text-align: right;\n",
       "    }\n",
       "</style>\n",
       "<table border=\"1\" class=\"dataframe\">\n",
       "  <thead>\n",
       "    <tr style=\"text-align: right;\">\n",
       "      <th></th>\n",
       "      <th>ID</th>\n",
       "      <th>Year_Birth</th>\n",
       "      <th>Education</th>\n",
       "      <th>Marital_Status</th>\n",
       "      <th>Income</th>\n",
       "      <th>Kidhome</th>\n",
       "      <th>Teenhome</th>\n",
       "      <th>Dt_Customer</th>\n",
       "      <th>Recency</th>\n",
       "      <th>MntWines</th>\n",
       "      <th>...</th>\n",
       "      <th>NumWebVisitsMonth</th>\n",
       "      <th>AcceptedCmp3</th>\n",
       "      <th>AcceptedCmp4</th>\n",
       "      <th>AcceptedCmp5</th>\n",
       "      <th>AcceptedCmp1</th>\n",
       "      <th>AcceptedCmp2</th>\n",
       "      <th>Complain</th>\n",
       "      <th>Z_CostContact</th>\n",
       "      <th>Z_Revenue</th>\n",
       "      <th>Response</th>\n",
       "    </tr>\n",
       "  </thead>\n",
       "  <tbody>\n",
       "    <tr>\n",
       "      <th>2235</th>\n",
       "      <td>10870</td>\n",
       "      <td>1967</td>\n",
       "      <td>Graduation</td>\n",
       "      <td>Married</td>\n",
       "      <td>61223.0</td>\n",
       "      <td>0</td>\n",
       "      <td>1</td>\n",
       "      <td>13-Jun-13</td>\n",
       "      <td>46</td>\n",
       "      <td>709</td>\n",
       "      <td>...</td>\n",
       "      <td>5</td>\n",
       "      <td>0</td>\n",
       "      <td>0</td>\n",
       "      <td>0</td>\n",
       "      <td>0</td>\n",
       "      <td>0</td>\n",
       "      <td>0</td>\n",
       "      <td>3</td>\n",
       "      <td>11</td>\n",
       "      <td>0</td>\n",
       "    </tr>\n",
       "    <tr>\n",
       "      <th>2236</th>\n",
       "      <td>4001</td>\n",
       "      <td>1946</td>\n",
       "      <td>PhD</td>\n",
       "      <td>Together</td>\n",
       "      <td>64014.0</td>\n",
       "      <td>2</td>\n",
       "      <td>1</td>\n",
       "      <td>6-Oct-14</td>\n",
       "      <td>56</td>\n",
       "      <td>406</td>\n",
       "      <td>...</td>\n",
       "      <td>7</td>\n",
       "      <td>0</td>\n",
       "      <td>0</td>\n",
       "      <td>0</td>\n",
       "      <td>1</td>\n",
       "      <td>0</td>\n",
       "      <td>0</td>\n",
       "      <td>3</td>\n",
       "      <td>11</td>\n",
       "      <td>0</td>\n",
       "    </tr>\n",
       "    <tr>\n",
       "      <th>2237</th>\n",
       "      <td>7270</td>\n",
       "      <td>1981</td>\n",
       "      <td>Graduation</td>\n",
       "      <td>Divorced</td>\n",
       "      <td>56981.0</td>\n",
       "      <td>0</td>\n",
       "      <td>0</td>\n",
       "      <td>25-Jan-14</td>\n",
       "      <td>91</td>\n",
       "      <td>908</td>\n",
       "      <td>...</td>\n",
       "      <td>6</td>\n",
       "      <td>0</td>\n",
       "      <td>1</td>\n",
       "      <td>0</td>\n",
       "      <td>0</td>\n",
       "      <td>0</td>\n",
       "      <td>0</td>\n",
       "      <td>3</td>\n",
       "      <td>11</td>\n",
       "      <td>0</td>\n",
       "    </tr>\n",
       "    <tr>\n",
       "      <th>2238</th>\n",
       "      <td>8235</td>\n",
       "      <td>1956</td>\n",
       "      <td>Master</td>\n",
       "      <td>Together</td>\n",
       "      <td>69245.0</td>\n",
       "      <td>0</td>\n",
       "      <td>1</td>\n",
       "      <td>24-Jan-14</td>\n",
       "      <td>8</td>\n",
       "      <td>428</td>\n",
       "      <td>...</td>\n",
       "      <td>3</td>\n",
       "      <td>0</td>\n",
       "      <td>0</td>\n",
       "      <td>0</td>\n",
       "      <td>0</td>\n",
       "      <td>0</td>\n",
       "      <td>0</td>\n",
       "      <td>3</td>\n",
       "      <td>11</td>\n",
       "      <td>0</td>\n",
       "    </tr>\n",
       "    <tr>\n",
       "      <th>2239</th>\n",
       "      <td>9405</td>\n",
       "      <td>1954</td>\n",
       "      <td>PhD</td>\n",
       "      <td>Married</td>\n",
       "      <td>52869.0</td>\n",
       "      <td>1</td>\n",
       "      <td>1</td>\n",
       "      <td>15-Oct-12</td>\n",
       "      <td>40</td>\n",
       "      <td>84</td>\n",
       "      <td>...</td>\n",
       "      <td>7</td>\n",
       "      <td>0</td>\n",
       "      <td>0</td>\n",
       "      <td>0</td>\n",
       "      <td>0</td>\n",
       "      <td>0</td>\n",
       "      <td>0</td>\n",
       "      <td>3</td>\n",
       "      <td>11</td>\n",
       "      <td>1</td>\n",
       "    </tr>\n",
       "  </tbody>\n",
       "</table>\n",
       "<p>5 rows × 29 columns</p>\n",
       "</div>"
      ],
      "text/plain": [
       "         ID  Year_Birth   Education Marital_Status   Income  Kidhome  \\\n",
       "2235  10870        1967  Graduation        Married  61223.0        0   \n",
       "2236   4001        1946         PhD       Together  64014.0        2   \n",
       "2237   7270        1981  Graduation       Divorced  56981.0        0   \n",
       "2238   8235        1956      Master       Together  69245.0        0   \n",
       "2239   9405        1954         PhD        Married  52869.0        1   \n",
       "\n",
       "      Teenhome Dt_Customer  Recency  MntWines  ...  NumWebVisitsMonth  \\\n",
       "2235         1   13-Jun-13       46       709  ...                  5   \n",
       "2236         1    6-Oct-14       56       406  ...                  7   \n",
       "2237         0   25-Jan-14       91       908  ...                  6   \n",
       "2238         1   24-Jan-14        8       428  ...                  3   \n",
       "2239         1   15-Oct-12       40        84  ...                  7   \n",
       "\n",
       "      AcceptedCmp3  AcceptedCmp4  AcceptedCmp5  AcceptedCmp1  AcceptedCmp2  \\\n",
       "2235             0             0             0             0             0   \n",
       "2236             0             0             0             1             0   \n",
       "2237             0             1             0             0             0   \n",
       "2238             0             0             0             0             0   \n",
       "2239             0             0             0             0             0   \n",
       "\n",
       "      Complain  Z_CostContact  Z_Revenue  Response  \n",
       "2235         0              3         11         0  \n",
       "2236         0              3         11         0  \n",
       "2237         0              3         11         0  \n",
       "2238         0              3         11         0  \n",
       "2239         0              3         11         1  \n",
       "\n",
       "[5 rows x 29 columns]"
      ]
     },
     "execution_count": 19,
     "metadata": {},
     "output_type": "execute_result"
    }
   ],
   "source": [
    "# Glimps of the bottom rows of the dataset \n",
    "\n",
    "df.tail()"
   ]
  },
  {
   "cell_type": "code",
   "execution_count": 20,
   "id": "8e6c8425-b283-45b0-8d28-61a92613db9b",
   "metadata": {},
   "outputs": [
    {
     "data": {
      "text/plain": [
       "Index(['ID', 'Year_Birth', 'Education', 'Marital_Status', 'Income', 'Kidhome',\n",
       "       'Teenhome', 'Dt_Customer', 'Recency', 'MntWines', 'MntFruits',\n",
       "       'MntMeatProducts', 'MntFishProducts', 'MntSweetProducts',\n",
       "       'MntGoldProds', 'NumDealsPurchases', 'NumWebPurchases',\n",
       "       'NumCatalogPurchases', 'NumStorePurchases', 'NumWebVisitsMonth',\n",
       "       'AcceptedCmp3', 'AcceptedCmp4', 'AcceptedCmp5', 'AcceptedCmp1',\n",
       "       'AcceptedCmp2', 'Complain', 'Z_CostContact', 'Z_Revenue', 'Response'],\n",
       "      dtype='object')"
      ]
     },
     "execution_count": 20,
     "metadata": {},
     "output_type": "execute_result"
    }
   ],
   "source": [
    "# Getting details of all the columns of the dataset \n",
    "\n",
    "df. columns"
   ]
  },
  {
   "cell_type": "markdown",
   "id": "4c63e51a-7734-4c39-bd27-44a240ab04dc",
   "metadata": {},
   "source": [
    "Here we will make a copy of dataframe to preserve the original dataframe .\n",
    "\n",
    "Now we will be performing all the activities in the copied dataset ."
   ]
  },
  {
   "cell_type": "code",
   "execution_count": null,
   "id": "4d1db13e-9fee-494e-9b94-facc752a4a32",
   "metadata": {},
   "outputs": [],
   "source": [
    "# Making a copy of dataframe to preserve the original dataframe \n",
    "\n",
    "df_copied = df.copy()\n",
    "df_copied.head()"
   ]
  },
  {
   "cell_type": "code",
   "execution_count": null,
   "id": "9c126499-8efd-4766-827e-25f111fe2ced",
   "metadata": {},
   "outputs": [],
   "source": [
    "# Get a description of all the features of the dataframe .\n",
    "\n",
    "df_copied.describe().T"
   ]
  },
  {
   "cell_type": "code",
   "execution_count": 31,
   "id": "d1dd0a07-f91e-47d5-b3c7-5d64a2a1cfde",
   "metadata": {},
   "outputs": [
    {
     "name": "stdout",
     "output_type": "stream",
     "text": [
      "<class 'pandas.core.frame.DataFrame'>\n",
      "RangeIndex: 2240 entries, 0 to 2239\n",
      "Data columns (total 29 columns):\n",
      " #   Column               Non-Null Count  Dtype  \n",
      "---  ------               --------------  -----  \n",
      " 0   ID                   2240 non-null   int64  \n",
      " 1   Year_Birth           2240 non-null   int64  \n",
      " 2   Education            2240 non-null   object \n",
      " 3   Marital_Status       2240 non-null   object \n",
      " 4   Income               2216 non-null   float64\n",
      " 5   Kidhome              2240 non-null   int64  \n",
      " 6   Teenhome             2240 non-null   int64  \n",
      " 7   Dt_Customer          2240 non-null   object \n",
      " 8   Recency              2240 non-null   int64  \n",
      " 9   MntWines             2240 non-null   int64  \n",
      " 10  MntFruits            2240 non-null   int64  \n",
      " 11  MntMeatProducts      2240 non-null   int64  \n",
      " 12  MntFishProducts      2240 non-null   int64  \n",
      " 13  MntSweetProducts     2240 non-null   int64  \n",
      " 14  MntGoldProds         2240 non-null   int64  \n",
      " 15  NumDealsPurchases    2240 non-null   int64  \n",
      " 16  NumWebPurchases      2240 non-null   int64  \n",
      " 17  NumCatalogPurchases  2240 non-null   int64  \n",
      " 18  NumStorePurchases    2240 non-null   int64  \n",
      " 19  NumWebVisitsMonth    2240 non-null   int64  \n",
      " 20  AcceptedCmp3         2240 non-null   int64  \n",
      " 21  AcceptedCmp4         2240 non-null   int64  \n",
      " 22  AcceptedCmp5         2240 non-null   int64  \n",
      " 23  AcceptedCmp1         2240 non-null   int64  \n",
      " 24  AcceptedCmp2         2240 non-null   int64  \n",
      " 25  Complain             2240 non-null   int64  \n",
      " 26  Z_CostContact        2240 non-null   int64  \n",
      " 27  Z_Revenue            2240 non-null   int64  \n",
      " 28  Response             2240 non-null   int64  \n",
      "dtypes: float64(1), int64(25), object(3)\n",
      "memory usage: 507.6+ KB\n"
     ]
    }
   ],
   "source": [
    "# Information on features of the dataframe \n",
    "\n",
    "df_copied.info()"
   ]
  },
  {
   "cell_type": "markdown",
   "id": "0ad54e4c-0628-41e2-ae5f-e41e936c3451",
   "metadata": {},
   "source": [
    "**From the above output we can conclude that :**  \n",
    "\n",
    "- Income feature has null values .\n",
    "- The dtype of Dt_Customer feature is not in datetime format that indicates the date a customer joined the database.\n",
    "- There are some categorical features in our dataframe .\n",
    "\n",
    "So first of all let's have a look at the  null values in the dataframe ."
   ]
  },
  {
   "cell_type": "code",
   "execution_count": 32,
   "id": "e7ba0a5b-183c-4a94-a229-77abced9840e",
   "metadata": {},
   "outputs": [
    {
     "data": {
      "text/plain": [
       "ID                      0\n",
       "Year_Birth              0\n",
       "Education               0\n",
       "Marital_Status          0\n",
       "Income                 24\n",
       "Kidhome                 0\n",
       "Teenhome                0\n",
       "Dt_Customer             0\n",
       "Recency                 0\n",
       "MntWines                0\n",
       "MntFruits               0\n",
       "MntMeatProducts         0\n",
       "MntFishProducts         0\n",
       "MntSweetProducts        0\n",
       "MntGoldProds            0\n",
       "NumDealsPurchases       0\n",
       "NumWebPurchases         0\n",
       "NumCatalogPurchases     0\n",
       "NumStorePurchases       0\n",
       "NumWebVisitsMonth       0\n",
       "AcceptedCmp3            0\n",
       "AcceptedCmp4            0\n",
       "AcceptedCmp5            0\n",
       "AcceptedCmp1            0\n",
       "AcceptedCmp2            0\n",
       "Complain                0\n",
       "Z_CostContact           0\n",
       "Z_Revenue               0\n",
       "Response                0\n",
       "dtype: int64"
      ]
     },
     "execution_count": 32,
     "metadata": {},
     "output_type": "execute_result"
    }
   ],
   "source": [
    "# Total null values in the dataset columnwise\n",
    "\n",
    "df_copied.isnull().sum()"
   ]
  },
  {
   "cell_type": "markdown",
   "id": "a57d44b3-64f9-48c4-bb2f-c72f6dc0992b",
   "metadata": {},
   "source": [
    "From the above output we can see that we have total numbers of null values in dataset is : 24"
   ]
  },
  {
   "cell_type": "code",
   "execution_count": 105,
   "id": "4b724623-8dfb-4bfe-876e-a0ea906a69bf",
   "metadata": {},
   "outputs": [
    {
     "data": {
      "text/plain": [
       "24"
      ]
     },
     "execution_count": 105,
     "metadata": {},
     "output_type": "execute_result"
    }
   ],
   "source": [
    "# Finding the number of null values in the dataset . \n",
    "\n",
    "df_copied.isnull().sum().sum()"
   ]
  },
  {
   "cell_type": "code",
   "execution_count": 104,
   "id": "42541159-6f3b-45c5-9d26-f05a77de3d7c",
   "metadata": {},
   "outputs": [
    {
     "data": {
      "text/plain": [
       "''"
      ]
     },
     "execution_count": 104,
     "metadata": {},
     "output_type": "execute_result"
    },
    {
     "data": {
      "image/png": "[encoded data removed]",
      "text/plain": [
       "<Figure size 1500x500 with 1 Axes>"
      ]
     },
     "metadata": {},
     "output_type": "display_data"
    }
   ],
   "source": [
    "# Visualizing the null values in the dataset \n",
    "\n",
    "# Making a dataframe with null values in the column\n",
    "null_df = df_copied.isnull().sum()\n",
    "\n",
    "# Making a bar graph with the null values\n",
    "# Giving the size of barplot\n",
    "plt.figure(figsize=(15,5))   \n",
    "\n",
    "# ploting bar plot \n",
    "null_df.plot(kind = 'bar' , color = 'skyblue' , title = 'Null values per column' ) \n",
    "\n",
    "# Customizing the bar plot\n",
    "plt.xlabel('Column names')\n",
    "plt.ylabel('count of null values')\n",
    "plt.xticks(rotation = 65)\n",
    "plt.tight_layout() ;"
   ]
  },
  {
   "cell_type": "code",
   "execution_count": 113,
   "id": "1dff3a63-d221-4a15-8337-ef9916d92910",
   "metadata": {},
   "outputs": [
    {
     "data": {
      "text/html": [
       "<div>\n",
       "<style scoped>\n",
       "    .dataframe tbody tr th:only-of-type {\n",
       "        vertical-align: middle;\n",
       "    }\n",
       "\n",
       "    .dataframe tbody tr th {\n",
       "        vertical-align: top;\n",
       "    }\n",
       "\n",
       "    .dataframe thead th {\n",
       "        text-align: right;\n",
       "    }\n",
       "</style>\n",
       "<table border=\"1\" class=\"dataframe\">\n",
       "  <thead>\n",
       "    <tr style=\"text-align: right;\">\n",
       "      <th></th>\n",
       "      <th>ID</th>\n",
       "      <th>Year_Birth</th>\n",
       "      <th>Education</th>\n",
       "      <th>Marital_Status</th>\n",
       "      <th>Income</th>\n",
       "      <th>Kidhome</th>\n",
       "      <th>Teenhome</th>\n",
       "      <th>Dt_Customer</th>\n",
       "      <th>Recency</th>\n",
       "      <th>MntWines</th>\n",
       "      <th>...</th>\n",
       "      <th>NumWebVisitsMonth</th>\n",
       "      <th>AcceptedCmp3</th>\n",
       "      <th>AcceptedCmp4</th>\n",
       "      <th>AcceptedCmp5</th>\n",
       "      <th>AcceptedCmp1</th>\n",
       "      <th>AcceptedCmp2</th>\n",
       "      <th>Complain</th>\n",
       "      <th>Z_CostContact</th>\n",
       "      <th>Z_Revenue</th>\n",
       "      <th>Response</th>\n",
       "    </tr>\n",
       "  </thead>\n",
       "  <tbody>\n",
       "    <tr>\n",
       "      <th>0</th>\n",
       "      <td>5524</td>\n",
       "      <td>1957</td>\n",
       "      <td>Graduation</td>\n",
       "      <td>Single</td>\n",
       "      <td>58138.0</td>\n",
       "      <td>0</td>\n",
       "      <td>0</td>\n",
       "      <td>4-Sep-12</td>\n",
       "      <td>58</td>\n",
       "      <td>635</td>\n",
       "      <td>...</td>\n",
       "      <td>7</td>\n",
       "      <td>0</td>\n",
       "      <td>0</td>\n",
       "      <td>0</td>\n",
       "      <td>0</td>\n",
       "      <td>0</td>\n",
       "      <td>0</td>\n",
       "      <td>3</td>\n",
       "      <td>11</td>\n",
       "      <td>1</td>\n",
       "    </tr>\n",
       "    <tr>\n",
       "      <th>1</th>\n",
       "      <td>2174</td>\n",
       "      <td>1954</td>\n",
       "      <td>Graduation</td>\n",
       "      <td>Single</td>\n",
       "      <td>46344.0</td>\n",
       "      <td>1</td>\n",
       "      <td>1</td>\n",
       "      <td>8-Mar-14</td>\n",
       "      <td>38</td>\n",
       "      <td>11</td>\n",
       "      <td>...</td>\n",
       "      <td>5</td>\n",
       "      <td>0</td>\n",
       "      <td>0</td>\n",
       "      <td>0</td>\n",
       "      <td>0</td>\n",
       "      <td>0</td>\n",
       "      <td>0</td>\n",
       "      <td>3</td>\n",
       "      <td>11</td>\n",
       "      <td>0</td>\n",
       "    </tr>\n",
       "    <tr>\n",
       "      <th>2</th>\n",
       "      <td>4141</td>\n",
       "      <td>1965</td>\n",
       "      <td>Graduation</td>\n",
       "      <td>Together</td>\n",
       "      <td>71613.0</td>\n",
       "      <td>0</td>\n",
       "      <td>0</td>\n",
       "      <td>21-Aug-13</td>\n",
       "      <td>26</td>\n",
       "      <td>426</td>\n",
       "      <td>...</td>\n",
       "      <td>4</td>\n",
       "      <td>0</td>\n",
       "      <td>0</td>\n",
       "      <td>0</td>\n",
       "      <td>0</td>\n",
       "      <td>0</td>\n",
       "      <td>0</td>\n",
       "      <td>3</td>\n",
       "      <td>11</td>\n",
       "      <td>0</td>\n",
       "    </tr>\n",
       "    <tr>\n",
       "      <th>3</th>\n",
       "      <td>6182</td>\n",
       "      <td>1984</td>\n",
       "      <td>Graduation</td>\n",
       "      <td>Together</td>\n",
       "      <td>26646.0</td>\n",
       "      <td>1</td>\n",
       "      <td>0</td>\n",
       "      <td>10-Feb-14</td>\n",
       "      <td>26</td>\n",
       "      <td>11</td>\n",
       "      <td>...</td>\n",
       "      <td>6</td>\n",
       "      <td>0</td>\n",
       "      <td>0</td>\n",
       "      <td>0</td>\n",
       "      <td>0</td>\n",
       "      <td>0</td>\n",
       "      <td>0</td>\n",
       "      <td>3</td>\n",
       "      <td>11</td>\n",
       "      <td>0</td>\n",
       "    </tr>\n",
       "    <tr>\n",
       "      <th>4</th>\n",
       "      <td>5324</td>\n",
       "      <td>1981</td>\n",
       "      <td>PhD</td>\n",
       "      <td>Married</td>\n",
       "      <td>58293.0</td>\n",
       "      <td>1</td>\n",
       "      <td>0</td>\n",
       "      <td>19-Jan-14</td>\n",
       "      <td>94</td>\n",
       "      <td>173</td>\n",
       "      <td>...</td>\n",
       "      <td>5</td>\n",
       "      <td>0</td>\n",
       "      <td>0</td>\n",
       "      <td>0</td>\n",
       "      <td>0</td>\n",
       "      <td>0</td>\n",
       "      <td>0</td>\n",
       "      <td>3</td>\n",
       "      <td>11</td>\n",
       "      <td>0</td>\n",
       "    </tr>\n",
       "  </tbody>\n",
       "</table>\n",
       "<p>5 rows × 29 columns</p>\n",
       "</div>"
      ],
      "text/plain": [
       "     ID  Year_Birth   Education Marital_Status   Income  Kidhome  Teenhome  \\\n",
       "0  5524        1957  Graduation         Single  58138.0        0         0   \n",
       "1  2174        1954  Graduation         Single  46344.0        1         1   \n",
       "2  4141        1965  Graduation       Together  71613.0        0         0   \n",
       "3  6182        1984  Graduation       Together  26646.0        1         0   \n",
       "4  5324        1981         PhD        Married  58293.0        1         0   \n",
       "\n",
       "  Dt_Customer  Recency  MntWines  ...  NumWebVisitsMonth  AcceptedCmp3  \\\n",
       "0    4-Sep-12       58       635  ...                  7             0   \n",
       "1    8-Mar-14       38        11  ...                  5             0   \n",
       "2   21-Aug-13       26       426  ...                  4             0   \n",
       "3   10-Feb-14       26        11  ...                  6             0   \n",
       "4   19-Jan-14       94       173  ...                  5             0   \n",
       "\n",
       "   AcceptedCmp4  AcceptedCmp5  AcceptedCmp1  AcceptedCmp2  Complain  \\\n",
       "0             0             0             0             0         0   \n",
       "1             0             0             0             0         0   \n",
       "2             0             0             0             0         0   \n",
       "3             0             0             0             0         0   \n",
       "4             0             0             0             0         0   \n",
       "\n",
       "   Z_CostContact  Z_Revenue  Response  \n",
       "0              3         11         1  \n",
       "1              3         11         0  \n",
       "2              3         11         0  \n",
       "3              3         11         0  \n",
       "4              3         11         0  \n",
       "\n",
       "[5 rows x 29 columns]"
      ]
     },
     "execution_count": 113,
     "metadata": {},
     "output_type": "execute_result"
    }
   ],
   "source": [
    "# Handling the missing values in dataset by deleting the rows containg null values . \n",
    "\n",
    "df_copied.dropna(inplace = True)\n",
    "\n",
    "df_copied.head()"
   ]
  },
  {
   "cell_type": "code",
   "execution_count": 114,
   "id": "818780a1-8763-4623-b06f-03afaa4213ae",
   "metadata": {},
   "outputs": [
    {
     "data": {
      "text/plain": [
       "(2216, 29)"
      ]
     },
     "execution_count": 114,
     "metadata": {},
     "output_type": "execute_result"
    }
   ],
   "source": [
    "# Checking for the number of records after deleting the null values . \n",
    "\n",
    "df_copied.shape"
   ]
  },
  {
   "cell_type": "code",
   "execution_count": 115,
   "id": "3e913c4a-2cfa-4974-8540-30715a45c30d",
   "metadata": {},
   "outputs": [
    {
     "data": {
      "text/html": [
       "<div>\n",
       "<style scoped>\n",
       "    .dataframe tbody tr th:only-of-type {\n",
       "        vertical-align: middle;\n",
       "    }\n",
       "\n",
       "    .dataframe tbody tr th {\n",
       "        vertical-align: top;\n",
       "    }\n",
       "\n",
       "    .dataframe thead th {\n",
       "        text-align: right;\n",
       "    }\n",
       "</style>\n",
       "<table border=\"1\" class=\"dataframe\">\n",
       "  <thead>\n",
       "    <tr style=\"text-align: right;\">\n",
       "      <th></th>\n",
       "      <th>ID</th>\n",
       "      <th>Year_Birth</th>\n",
       "      <th>Education</th>\n",
       "      <th>Marital_Status</th>\n",
       "      <th>Income</th>\n",
       "      <th>Kidhome</th>\n",
       "      <th>Teenhome</th>\n",
       "      <th>Dt_Customer</th>\n",
       "      <th>Recency</th>\n",
       "      <th>MntWines</th>\n",
       "      <th>...</th>\n",
       "      <th>NumWebVisitsMonth</th>\n",
       "      <th>AcceptedCmp3</th>\n",
       "      <th>AcceptedCmp4</th>\n",
       "      <th>AcceptedCmp5</th>\n",
       "      <th>AcceptedCmp1</th>\n",
       "      <th>AcceptedCmp2</th>\n",
       "      <th>Complain</th>\n",
       "      <th>Z_CostContact</th>\n",
       "      <th>Z_Revenue</th>\n",
       "      <th>Response</th>\n",
       "    </tr>\n",
       "  </thead>\n",
       "  <tbody>\n",
       "  </tbody>\n",
       "</table>\n",
       "<p>0 rows × 29 columns</p>\n",
       "</div>"
      ],
      "text/plain": [
       "Empty DataFrame\n",
       "Columns: [ID, Year_Birth, Education, Marital_Status, Income, Kidhome, Teenhome, Dt_Customer, Recency, MntWines, MntFruits, MntMeatProducts, MntFishProducts, MntSweetProducts, MntGoldProds, NumDealsPurchases, NumWebPurchases, NumCatalogPurchases, NumStorePurchases, NumWebVisitsMonth, AcceptedCmp3, AcceptedCmp4, AcceptedCmp5, AcceptedCmp1, AcceptedCmp2, Complain, Z_CostContact, Z_Revenue, Response]\n",
       "Index: []\n",
       "\n",
       "[0 rows x 29 columns]"
      ]
     },
     "execution_count": 115,
     "metadata": {},
     "output_type": "execute_result"
    }
   ],
   "source": [
    "# Detecting the duplicate values in the dataframe \n",
    "\n",
    "df_copied[df_copied.duplicated()]"
   ]
  },
  {
   "cell_type": "code",
   "execution_count": 119,
   "id": "9d1405b3-44bc-463d-bb11-762523c74d9e",
   "metadata": {},
   "outputs": [
    {
     "data": {
      "text/plain": [
       "ID                     2216\n",
       "Year_Birth               59\n",
       "Education                 5\n",
       "Marital_Status            8\n",
       "Income                 1974\n",
       "Kidhome                   3\n",
       "Teenhome                  3\n",
       "Dt_Customer             665\n",
       "Recency                 100\n",
       "MntWines                776\n",
       "MntFruits               158\n",
       "MntMeatProducts         554\n",
       "MntFishProducts         182\n",
       "MntSweetProducts        176\n",
       "MntGoldProds            212\n",
       "NumDealsPurchases        15\n",
       "NumWebPurchases          15\n",
       "NumCatalogPurchases      14\n",
       "NumStorePurchases        14\n",
       "NumWebVisitsMonth        16\n",
       "AcceptedCmp3              2\n",
       "AcceptedCmp4              2\n",
       "AcceptedCmp5              2\n",
       "AcceptedCmp1              2\n",
       "AcceptedCmp2              2\n",
       "Complain                  2\n",
       "Z_CostContact             1\n",
       "Z_Revenue                 1\n",
       "Response                  2\n",
       "dtype: int64"
      ]
     },
     "execution_count": 119,
     "metadata": {},
     "output_type": "execute_result"
    }
   ],
   "source": [
    "# Finding the number of unique values in each column \n",
    "\n",
    "df_copied.nunique()"
   ]
  },
  {
   "cell_type": "markdown",
   "id": "415fa307-f2ec-47e4-9104-6ed0ff77ea13",
   "metadata": {},
   "source": [
    "In the above output we see that Z_CostContact and Z_Revenue have constant value across all the rows of the dataset and thus they don't contribut in optimizing the model building , so it's better to drop these columns . "
   ]
  },
  {
   "cell_type": "code",
   "execution_count": null,
   "id": "c7ba83ae-0b76-4b39-a5d1-30d31ed5e94f",
   "metadata": {},
   "outputs": [],
   "source": [
    "# Droping the unwanted features \n",
    "\n",
    "df_copied = df_copied.drop(columns = ['Z_CostContact' , 'Z_Revenue'],  axis = 1 )"
   ]
  },
  {
   "cell_type": "code",
   "execution_count": 138,
   "id": "1eb3510b-96af-4336-9115-282bbf5c1f59",
   "metadata": {},
   "outputs": [
    {
     "data": {
      "text/plain": [
       "Index(['ID', 'Year_Birth', 'Education', 'Marital_Status', 'Income', 'Kidhome',\n",
       "       'Teenhome', 'Dt_Customer', 'Recency', 'MntWines', 'MntFruits',\n",
       "       'MntMeatProducts', 'MntFishProducts', 'MntSweetProducts',\n",
       "       'MntGoldProds', 'NumDealsPurchases', 'NumWebPurchases',\n",
       "       'NumCatalogPurchases', 'NumStorePurchases', 'NumWebVisitsMonth',\n",
       "       'AcceptedCmp3', 'AcceptedCmp4', 'AcceptedCmp5', 'AcceptedCmp1',\n",
       "       'AcceptedCmp2', 'Complain', 'Response'],\n",
       "      dtype='object')"
      ]
     },
     "execution_count": 138,
     "metadata": {},
     "output_type": "execute_result"
    }
   ],
   "source": [
    "# Getting the names of left over columns \n",
    "\n",
    "df_copied.columns"
   ]
  },
  {
   "cell_type": "code",
   "execution_count": 141,
   "id": "15a13d17-df60-4dd6-9520-103ee0b94080",
   "metadata": {},
   "outputs": [
    {
     "data": {
      "text/plain": [
       "(2216, 27)"
      ]
     },
     "execution_count": 141,
     "metadata": {},
     "output_type": "execute_result"
    }
   ],
   "source": [
    "# Count of total columns and rows left after droping .\n",
    "\n",
    "df_copied.shape"
   ]
  },
  {
   "cell_type": "markdown",
   "id": "37d1f22f-2c33-4e99-97e4-ed03e0aa9b02",
   "metadata": {},
   "source": [
    "### Exploratory Data Analysis (EDA)   \n",
    "\n",
    "**Univariate Analysis**"
   ]
  },
  {
   "cell_type": "code",
   "execution_count": 152,
   "id": "9330793f-6a2f-4fb6-9009-162e4707dfa2",
   "metadata": {},
   "outputs": [
    {
     "data": {
      "text/plain": [
       "Year_Birth\n",
       "1976    89\n",
       "1971    86\n",
       "1975    83\n",
       "1972    78\n",
       "1978    76\n",
       "1970    75\n",
       "1965    74\n",
       "1973    72\n",
       "1969    70\n",
       "1974    69\n",
       "1956    55\n",
       "1979    53\n",
       "1958    52\n",
       "1977    52\n",
       "1952    52\n",
       "1968    51\n",
       "1966    50\n",
       "1959    50\n",
       "1954    49\n",
       "1960    49\n",
       "1955    48\n",
       "1982    44\n",
       "1963    44\n",
       "1962    44\n",
       "1967    44\n",
       "1951    42\n",
       "1983    41\n",
       "1986    41\n",
       "1957    41\n",
       "1964    41\n",
       "1980    39\n",
       "1981    38\n",
       "1984    38\n",
       "1961    35\n",
       "1953    35\n",
       "1985    32\n",
       "1949    30\n",
       "1989    29\n",
       "1988    29\n",
       "1950    29\n",
       "1987    27\n",
       "1948    21\n",
       "1990    18\n",
       "1946    16\n",
       "1947    16\n",
       "1991    15\n",
       "1992    13\n",
       "1945     8\n",
       "1944     7\n",
       "1943     6\n",
       "1995     5\n",
       "1993     5\n",
       "1994     3\n",
       "1996     2\n",
       "1899     1\n",
       "1941     1\n",
       "1893     1\n",
       "1900     1\n",
       "1940     1\n",
       "Name: count, dtype: int64"
      ]
     },
     "execution_count": 152,
     "metadata": {},
     "output_type": "execute_result"
    }
   ],
   "source": [
    "# Analysis On Year_Birth\n",
    "\n",
    "df_copied['Year_Birth'].value_counts()"
   ]
  },
  {
   "cell_type": "code",
   "execution_count": 181,
   "id": "aaabea5f-c93d-4cdf-942c-b3aba3e98fa5",
   "metadata": {},
   "outputs": [
    {
     "data": {
      "text/plain": [
       "Education\n",
       "Post Graduate     2162\n",
       "under graduate      54\n",
       "Name: count, dtype: int64"
      ]
     },
     "execution_count": 181,
     "metadata": {},
     "output_type": "execute_result"
    }
   ],
   "source": [
    "# Analysis On Education feature\n",
    "\n",
    "df_copied['Education'].unique()\n",
    "\n",
    "# Replacing the certain values of Education feature with under graduate and Post Graduate only .\n",
    "\n",
    "df_copied['Education'] = df_copied['Education'].replace({\"PhD\" :\"Post Graduate\" ,\"Master\" :\"Post Graduate\",\"Graduation\" :\"Post Graduate\",\"2n Cycle\" :\"Post Graduate\" })\n",
    "\n",
    "df_copied['Education'] = df_copied['Education'].replace({'Basic':'under graduate'})\n",
    "\n",
    "# Displaying the count of different categories in Education feature . \n",
    "\n",
    "df_copied['Education'].value_counts()"
   ]
  },
  {
   "cell_type": "code",
   "execution_count": 261,
   "id": "eb1d9595-d681-419a-ba4a-d1536365cc80",
   "metadata": {},
   "outputs": [
    {
     "data": {
      "text/plain": [
       "(array([0, 1]), [Text(0, 0, 'Post Graduate'), Text(1, 0, 'under graduate')])"
      ]
     },
     "execution_count": 261,
     "metadata": {},
     "output_type": "execute_result"
    },
    {
     "data": {
      "image/png": "[encoded data removed]",
      "text/plain": [
       "<Figure size 600x500 with 1 Axes>"
      ]
     },
     "metadata": {},
     "output_type": "display_data"
    }
   ],
   "source": [
    "# Visualizing of each category in Education feature \n",
    "\n",
    "# Counting of different categories in Education feature\n",
    "count_edu = df_copied['Education'].value_counts()\n",
    "\n",
    "# Ploting Bar graph \n",
    "plt.figure(figsize =(6,5))\n",
    "count_edu.plot(kind = 'bar' , color = [ '#90EE90','#FD8B73'] ,edgecolor = 'black', title = 'Frequency of each category in education variable')\n",
    "\n",
    "# Customization of Bar plot\n",
    "plt.ylabel(\"Count\")\n",
    "plt.xlabel(\"Type of Education\")\n",
    "plt.xticks(rotation = 360)\n",
    "\n"
   ]
  },
  {
   "cell_type": "markdown",
   "id": "5a194dee-897f-40f9-aca2-9a9e3120249f",
   "metadata": {},
   "source": [
    "From the above analysis we observe that :  \n",
    "\n",
    "- Most of the customers that is more than 95% of the customers are Post Graduate\n",
    "- And less than only 5% of the  customers are Under Graduate ."
   ]
  },
  {
   "cell_type": "code",
   "execution_count": 273,
   "id": "0b8dbc4b-0f7c-4024-b7e5-98685fdc74b9",
   "metadata": {},
   "outputs": [
    {
     "data": {
      "text/plain": [
       "2"
      ]
     },
     "execution_count": 273,
     "metadata": {},
     "output_type": "execute_result"
    }
   ],
   "source": [
    "# Analysis On Marital_Status\n",
    "\n",
    "# Getting the number of unique values in Marital_Status feature .\n",
    "df_copied['Marital_Status'].nunique()\n"
   ]
  },
  {
   "cell_type": "code",
   "execution_count": 244,
   "id": "17880949-3b59-4b27-ac53-a1f7196e9dba",
   "metadata": {},
   "outputs": [
    {
     "data": {
      "text/plain": [
       "Marital_Status\n",
       "Relationship    1430\n",
       "Single           786\n",
       "Name: count, dtype: int64"
      ]
     },
     "execution_count": 244,
     "metadata": {},
     "output_type": "execute_result"
    }
   ],
   "source": [
    "# Replacing certain values of Marital_Status feature with Relationship or single only .\n",
    "\n",
    "df_copied['Marital_Status'] = df_copied['Marital_Status'].replace(['Divorced','Widow','Alone','Absurd','YOLO','single'],\"Single\")\n",
    "\n",
    "df_copied['Marital_Status'] = df_copied['Marital_Status'].replace(['Together','Married'],\"Relationship\")\n",
    "\n",
    "# Displaying the count of different categories in Education feature .\n",
    "df_copied['Marital_Status'].value_counts()\n"
   ]
  },
  {
   "cell_type": "code",
   "execution_count": 270,
   "id": "c01842cb-973d-42fc-956c-362cb3946ab7",
   "metadata": {},
   "outputs": [
    {
     "data": {
      "image/png": "[encoded data removed]",
      "text/plain": [
       "<Figure size 700x500 with 1 Axes>"
      ]
     },
     "metadata": {},
     "output_type": "display_data"
    }
   ],
   "source": [
    "# Visualizing each category in Education feature \n",
    "count_Marital_Status = df_copied['Marital_Status'].value_counts()\n",
    "\n",
    "# Ploting the bargraph\n",
    "plt.figure(figsize = (7,5))\n",
    "count_Marital_Status.plot(kind = 'bar' , color = ['#90EE90','#FD8B73'] , edgecolor = 'black' \n",
    "                          ,title = \"Frequency Of Each Category in the Marital_Status Variable\")\n",
    "\n",
    "plt.ylabel('Count of customers')\n",
    "plt.xlabel(\"Type of Marital status\")\n",
    "plt.xticks(rotation = 360)\n",
    "\n",
    "\n",
    "plt.show()"
   ]
  },
  {
   "cell_type": "markdown",
   "id": "ac2fc4f4-05a7-40ff-be89-14227916f108",
   "metadata": {},
   "source": [
    "From the above analysis we observe that :  \n",
    "\n",
    "- Most of the customers that is about 64% of the customers are \"In Relationship\" .\n",
    "- And about only 36% of the  customers are \"Single\" ."
   ]
  },
  {
   "cell_type": "code",
   "execution_count": 284,
   "id": "0fe71342-223d-48b3-8423-54210be95053",
   "metadata": {},
   "outputs": [
    {
     "name": "stdout",
     "output_type": "stream",
     "text": [
      "The max income is :  666666\n",
      "The min income is : 1730\n",
      "The Average income is : 52247.25\n"
     ]
    }
   ],
   "source": [
    "# Analysis On Income variable .\n",
    "\n",
    "# Getting the maximum value in Income variable .\n",
    "max_income = round(df_copied['Income'].max())\n",
    "print( \"The max income is : \", max_income)\n",
    "\n",
    "\n",
    "# Getting the minimum value in Income variable .\n",
    "min_income = round(df_copied['Income'].min())\n",
    "print( \"The min income is :\", min_income)\n",
    "\n",
    "\n",
    "# Getting the average value in Income variable .\n",
    "Average_value = round(df_copied[\"Income\"].mean(), 2)\n",
    "print( \"The Average income is :\", Average_value)\n"
   ]
  },
  {
   "cell_type": "code",
   "execution_count": 326,
   "id": "ef7b13c4-59bc-4d4c-9bdd-c79f95a79095",
   "metadata": {},
   "outputs": [
    {
     "ename": "TypeError",
     "evalue": "'str' object is not callable",
     "output_type": "error",
     "traceback": [
      "\u001b[1;31m---------------------------------------------------------------------------\u001b[0m",
      "\u001b[1;31mTypeError\u001b[0m                                 Traceback (most recent call last)",
      "Cell \u001b[1;32mIn[326], line 5\u001b[0m\n\u001b[0;32m      1\u001b[0m dist_income \u001b[38;5;241m=\u001b[39m df_copied[\u001b[38;5;124m'\u001b[39m\u001b[38;5;124mIncome\u001b[39m\u001b[38;5;124m'\u001b[39m]\n\u001b[0;32m      3\u001b[0m sns\u001b[38;5;241m.\u001b[39mdistplot(dist_income)\n\u001b[1;32m----> 5\u001b[0m \u001b[43mplt\u001b[49m\u001b[38;5;241;43m.\u001b[39;49m\u001b[43mtitle\u001b[49m\u001b[43m(\u001b[49m\u001b[38;5;124;43m\"\u001b[39;49m\u001b[38;5;124;43mDistribution of Income\u001b[39;49m\u001b[38;5;124;43m\"\u001b[39;49m\u001b[43m)\u001b[49m\n\u001b[0;32m      6\u001b[0m plt\u001b[38;5;241m.\u001b[39mtight_layout(pad \u001b[38;5;241m=\u001b[39m \u001b[38;5;241m1.0\u001b[39m)\n\u001b[0;32m      8\u001b[0m plt\u001b[38;5;241m.\u001b[39mshow()\n",
      "\u001b[1;31mTypeError\u001b[0m: 'str' object is not callable"
     ]
    },
    {
     "data": {
      "image/png": "[encoded data removed]",
      "text/plain": [
       "<Figure size 640x480 with 1 Axes>"
      ]
     },
     "metadata": {},
     "output_type": "display_data"
    }
   ],
   "source": [
    "dist_income = df_copied['Income']\n",
    "\n",
    "sns.distplot(dist_income)\n",
    "\n",
    "plt.title(\"Distribution of Income\")\n",
    "plt.tight_layout(pad = 1.0)\n",
    "\n",
    "plt.show()\n"
   ]
  },
  {
   "cell_type": "code",
   "execution_count": 300,
   "id": "4e669ceb-01e5-4459-a269-7415ebe32173",
   "metadata": {},
   "outputs": [
    {
     "data": {
      "text/plain": [
       "<Axes: >"
      ]
     },
     "execution_count": 300,
     "metadata": {},
     "output_type": "execute_result"
    },
    {
     "data": {
      "image/png": "[encoded data removed]",
      "text/plain": [
       "<Figure size 400x500 with 1 Axes>"
      ]
     },
     "metadata": {},
     "output_type": "display_data"
    }
   ],
   "source": [
    "plt.figure(figsize=(4,5))\n",
    "\n",
    "sns.boxplot(dist_income , color = '#FD8B73')\n",
    "\n"
   ]
  },
  {
   "cell_type": "code",
   "execution_count": null,
   "id": "95095517-b2fe-496b-b356-5405a1d94fe9",
   "metadata": {},
   "outputs": [],
   "source": []
  },
  {
   "cell_type": "code",
   "execution_count": null,
   "id": "68b99499-a123-4950-8793-1ab352ef62f5",
   "metadata": {},
   "outputs": [],
   "source": []
  },
  {
   "cell_type": "code",
   "execution_count": null,
   "id": "b2f860e3-e3d9-4c09-9ce4-4668dde39fc6",
   "metadata": {},
   "outputs": [],
   "source": []
  },
  {
   "cell_type": "code",
   "execution_count": null,
   "id": "056c1c9e-84ca-41e3-86c2-f923d456b3cd",
   "metadata": {},
   "outputs": [],
   "source": []
  },
  {
   "cell_type": "code",
   "execution_count": 153,
   "id": "cacf777d-9549-4275-bdae-815012da58e1",
   "metadata": {},
   "outputs": [
    {
     "data": {
      "text/plain": [
       "Index(['ID', 'Year_Birth', 'Education', 'Marital_Status', 'Income', 'Kidhome',\n",
       "       'Teenhome', 'Dt_Customer', 'Recency', 'MntWines', 'MntFruits',\n",
       "       'MntMeatProducts', 'MntFishProducts', 'MntSweetProducts',\n",
       "       'MntGoldProds', 'NumDealsPurchases', 'NumWebPurchases',\n",
       "       'NumCatalogPurchases', 'NumStorePurchases', 'NumWebVisitsMonth',\n",
       "       'AcceptedCmp3', 'AcceptedCmp4', 'AcceptedCmp5', 'AcceptedCmp1',\n",
       "       'AcceptedCmp2', 'Complain', 'Response'],\n",
       "      dtype='object')"
      ]
     },
     "execution_count": 153,
     "metadata": {},
     "output_type": "execute_result"
    }
   ],
   "source": [
    "df_copied.columns"
   ]
  },
  {
   "cell_type": "code",
   "execution_count": null,
   "id": "fa6e917d-38c2-4fcf-97fb-bff5489fc01f",
   "metadata": {},
   "outputs": [],
   "source": []
  },
  {
   "cell_type": "code",
   "execution_count": null,
   "id": "e5c6f9ef-b7a9-46bc-b1ac-16f7f3049b22",
   "metadata": {},
   "outputs": [],
   "source": []
  },
  {
   "cell_type": "code",
   "execution_count": null,
   "id": "d8c586e2-6eb5-49c7-b2c4-63e8c8f82911",
   "metadata": {},
   "outputs": [],
   "source": []
  },
  {
   "cell_type": "code",
   "execution_count": null,
   "id": "6c0aa9e4-afe8-4a8c-a717-413045687464",
   "metadata": {},
   "outputs": [],
   "source": []
  },
  {
   "cell_type": "markdown",
   "id": "36c840f3-8532-4013-b527-499379738d12",
   "metadata": {
    "jp-MarkdownHeadingCollapsed": true
   },
   "source": [
    "### **Working above this **############################"
   ]
  },
  {
   "cell_type": "markdown",
   "id": "b533e470-b2c1-4021-b25d-fa60305aced1",
   "metadata": {},
   "source": [
    "**Feature formation**"
   ]
  },
  {
   "cell_type": "markdown",
   "id": "d11b63c0-ae13-4291-a6a0-2fccedd659b4",
   "metadata": {},
   "source": [
    "In the next step, I am going to create a feature out of \"Dt_Customer\" that indicates the number of days a customer is registered in the firm's database and has been shopping with the company .\n",
    "\n",
    "For this I need to :  \n",
    "- First convert the object datatype of the feature to datetime format .\n",
    "- Get the min and max values of the Dt_Customer column . "
   ]
  },
  {
   "cell_type": "code",
   "execution_count": null,
   "id": "d8b4aa19-90f3-482c-99bd-f65e1334e985",
   "metadata": {},
   "outputs": [],
   "source": [
    "# Converting the Dt_Customer from object type to datetime format\n",
    "\n",
    "df_copied['Dt_Customer'] = pd.to_datetime(df_copied['Dt_Customer'] , format = '%y-%m-%d').dt.date\n",
    "\n",
    "\n",
    "# Getting a glimps of the new column of the dataframe \n",
    "\n",
    "print(df_copied['Dt_Customer'])"
   ]
  },
  {
   "cell_type": "code",
   "execution_count": null,
   "id": "908862df-9acf-45b4-9588-824395028dc8",
   "metadata": {},
   "outputs": [],
   "source": [
    "# Getting the oldest and newest customer enrolement date from the Dt_Customer column .\n",
    "\n",
    "oldest = df_copied['Dt_Customer'].min()\n",
    "print('oldest = ' , oldest)\n",
    "\n",
    "newest =  df_copied['Dt_Customer'].max()\n",
    "print('newest = ' , newest)"
   ]
  },
  {
   "cell_type": "code",
   "execution_count": null,
   "id": "bc16859a-6491-49b5-8c87-c76428632ea1",
   "metadata": {},
   "outputs": [],
   "source": [
    "# Making a new feature called Customer_for from the Dt_Customer column\n",
    "\n",
    "df_copied['Customer_for'] = newest - df_copied['Dt_Customer']\n",
    "\n",
    "\n",
    "df_copied['Customer_for']= df_copied['Customer_for'].dt.days()\n",
    "print(df_copied['Customer_for'])"
   ]
  },
  {
   "cell_type": "code",
   "execution_count": null,
   "id": "65f9af26-a564-4a17-a1f9-92bbd49510c4",
   "metadata": {},
   "outputs": [],
   "source": [
    " df_copied.drop('Customer_for' , axis = 1 , inplace = True)"
   ]
  },
  {
   "cell_type": "code",
   "execution_count": null,
   "id": "2cc9bd11-4bdf-4a81-8940-54a3d002bc0b",
   "metadata": {},
   "outputs": [],
   "source": [
    "df_copied.columns"
   ]
  },
  {
   "cell_type": "code",
   "execution_count": 12,
   "id": "e7bb4a19-3029-45bd-8c22-9879ac6a6612",
   "metadata": {},
   "outputs": [],
   "source": [
    "###################################################################################################################################################"
   ]
  },
  {
   "cell_type": "code",
   "execution_count": null,
   "id": "9d9b0a82-ff4c-4b9a-a7de-eb0895049c2d",
   "metadata": {},
   "outputs": [],
   "source": [
    "# Getting he number of unique values in each column of a dataframe \n",
    "\n",
    "df_copied.nunique()"
   ]
  },
  {
   "cell_type": "code",
   "execution_count": null,
   "id": "e4f5b8fa-b5c8-4bcd-a097-c00bcd0a663f",
   "metadata": {},
   "outputs": [],
   "source": [
    "# Getting the  unique values in Education column of a dataframe \n",
    "\n",
    "df_copied['Education'].unique()"
   ]
  },
  {
   "cell_type": "code",
   "execution_count": null,
   "id": "1c6e824b-eed8-4bd5-8e19-2fb4c0b2ed61",
   "metadata": {},
   "outputs": [],
   "source": []
  },
  {
   "cell_type": "code",
   "execution_count": null,
   "id": "f943006b-5a4e-4f60-9ab7-390f2ce1c210",
   "metadata": {},
   "outputs": [],
   "source": []
  },
  {
   "cell_type": "code",
   "execution_count": null,
   "id": "703cbd64-a768-44c2-b156-e093ebf5583c",
   "metadata": {},
   "outputs": [],
   "source": []
  },
  {
   "cell_type": "code",
   "execution_count": null,
   "id": "1eeb3ea3-9726-4912-82c1-3d60e83f4bfe",
   "metadata": {},
   "outputs": [],
   "source": []
  },
  {
   "cell_type": "code",
   "execution_count": null,
   "id": "440bb5e2-cf7c-499b-8ff6-27a9d218b475",
   "metadata": {},
   "outputs": [],
   "source": []
  },
  {
   "cell_type": "code",
   "execution_count": null,
   "id": "34b2073a-82ae-4e26-a3a0-80fa5d99dd99",
   "metadata": {},
   "outputs": [],
   "source": []
  },
  {
   "cell_type": "code",
   "execution_count": null,
   "id": "e1130322-6bd4-44d6-9653-84b41d4090cd",
   "metadata": {},
   "outputs": [],
   "source": []
  },
  {
   "cell_type": "code",
   "execution_count": null,
   "id": "8816e471-2983-4e57-87b3-7fd1b5bb113e",
   "metadata": {},
   "outputs": [],
   "source": []
  },
  {
   "cell_type": "code",
   "execution_count": null,
   "id": "76a54da3-c649-4671-966c-00785163bca2",
   "metadata": {},
   "outputs": [],
   "source": []
  },
  {
   "cell_type": "code",
   "execution_count": null,
   "id": "9626732e-5c02-43c7-ac5c-89a666dabe6c",
   "metadata": {},
   "outputs": [],
   "source": []
  },
  {
   "cell_type": "code",
   "execution_count": null,
   "id": "b0b211de-0e60-4b2c-81af-79127aba5d7c",
   "metadata": {},
   "outputs": [],
   "source": []
  },
  {
   "cell_type": "code",
   "execution_count": null,
   "id": "0830b53c-aa27-43ea-a564-3bd40f91aeb1",
   "metadata": {},
   "outputs": [],
   "source": []
  },
  {
   "cell_type": "code",
   "execution_count": null,
   "id": "d296b70c-fe90-4401-8a3a-6b8c149322e2",
   "metadata": {},
   "outputs": [],
   "source": []
  },
  {
   "cell_type": "code",
   "execution_count": null,
   "id": "5af55c58-3931-4cc1-a3f0-dbb76e1440e0",
   "metadata": {},
   "outputs": [],
   "source": []
  },
  {
   "cell_type": "code",
   "execution_count": null,
   "id": "eaeebac4-74d1-4011-86b2-a2cfe107012c",
   "metadata": {},
   "outputs": [],
   "source": []
  },
  {
   "cell_type": "code",
   "execution_count": null,
   "id": "817db41d-a7e6-4b06-8b4a-2e6ced899f6f",
   "metadata": {},
   "outputs": [],
   "source": []
  },
  {
   "cell_type": "code",
   "execution_count": null,
   "id": "443ffe19-8663-448a-b6b3-92e4c94d638e",
   "metadata": {},
   "outputs": [],
   "source": []
  },
  {
   "cell_type": "code",
   "execution_count": null,
   "id": "6090526f-7ff0-4a1c-b306-271ba64dd823",
   "metadata": {},
   "outputs": [],
   "source": []
  },
  {
   "cell_type": "code",
   "execution_count": null,
   "id": "858af24a-5460-4510-a40f-faa412e72495",
   "metadata": {},
   "outputs": [],
   "source": []
  },
  {
   "cell_type": "code",
   "execution_count": null,
   "id": "cb2808c5-fd44-4f1e-bfab-78618db645ce",
   "metadata": {},
   "outputs": [],
   "source": []
  },
  {
   "cell_type": "code",
   "execution_count": null,
   "id": "50bbbb52-ee47-4eb5-89b5-e1b443bd0b51",
   "metadata": {},
   "outputs": [],
   "source": []
  },
  {
   "cell_type": "code",
   "execution_count": null,
   "id": "539d3483-c9c6-40a9-83b6-2135c3e9ebc1",
   "metadata": {},
   "outputs": [],
   "source": [
    "# Finding the number of unique values in each column .\n",
    "\n",
    "df.nunique(axis = 0)"
   ]
  },
  {
   "cell_type": "code",
   "execution_count": null,
   "id": "2fdbd05b-f035-4cf6-9a80-7bb6aaf6cbf2",
   "metadata": {},
   "outputs": [],
   "source": [
    "# Finding the  unique values in Education column .\n",
    "\n",
    "df[\"Education\"].unique()"
   ]
  },
  {
   "cell_type": "markdown",
   "id": "2fbda6e9-74ae-4bc3-93bf-ba8569c0bb91",
   "metadata": {},
   "source": [
    "**//*****************************************************************************************************************//**"
   ]
  },
  {
   "cell_type": "markdown",
   "id": "f7e05088-8efb-4e89-8c4c-9da025ae0971",
   "metadata": {},
   "source": [
    "**Formatting of the dataframe as per requirement .**"
   ]
  },
  {
   "cell_type": "code",
   "execution_count": null,
   "id": "980683e7-8bb3-4309-b336-2afb7aa07da8",
   "metadata": {},
   "outputs": [],
   "source": [
    "df.info()"
   ]
  },
  {
   "cell_type": "code",
   "execution_count": null,
   "id": "0e40310c-c719-4efc-b63c-66577cc80c4b",
   "metadata": {},
   "outputs": [],
   "source": []
  },
  {
   "cell_type": "code",
   "execution_count": null,
   "id": "aa9847ec-f83b-495f-bd27-860fd7486b21",
   "metadata": {},
   "outputs": [],
   "source": []
  },
  {
   "cell_type": "code",
   "execution_count": null,
   "id": "296c003d-9c2e-4dce-a725-52b5ed9e3138",
   "metadata": {},
   "outputs": [],
   "source": []
  },
  {
   "cell_type": "code",
   "execution_count": null,
   "id": "413b7b69-bca4-4fb6-ac79-82ed11890f43",
   "metadata": {},
   "outputs": [],
   "source": []
  },
  {
   "cell_type": "code",
   "execution_count": null,
   "id": "13cec683-adc0-4323-adf9-d9c4e9e52588",
   "metadata": {},
   "outputs": [],
   "source": []
  },
  {
   "cell_type": "code",
   "execution_count": null,
   "id": "b91cd085-7742-4820-bf4c-c00b9eccada8",
   "metadata": {},
   "outputs": [],
   "source": []
  },
  {
   "cell_type": "code",
   "execution_count": null,
   "id": "5276ec2a-c762-490e-b6b1-710598fff5ed",
   "metadata": {},
   "outputs": [],
   "source": []
  },
  {
   "cell_type": "markdown",
   "id": "10faec95-019a-4256-bd0e-3262a79e5ea2",
   "metadata": {},
   "source": [
    "## Data Cleaning"
   ]
  },
  {
   "cell_type": "code",
   "execution_count": null,
   "id": "2e9bf6cf-93ca-4591-b683-dd3afeaadd67",
   "metadata": {},
   "outputs": [],
   "source": []
  },
  {
   "cell_type": "code",
   "execution_count": null,
   "id": "fd4b3f80-80f8-445d-97ba-3b98e90a53ae",
   "metadata": {},
   "outputs": [],
   "source": []
  },
  {
   "cell_type": "code",
   "execution_count": null,
   "id": "6f7c9ed8-f814-4ed4-bc4b-8d07758a307b",
   "metadata": {},
   "outputs": [],
   "source": []
  },
  {
   "cell_type": "code",
   "execution_count": null,
   "id": "706bb5f1-8686-4d2e-8936-1287df55d6ed",
   "metadata": {},
   "outputs": [],
   "source": []
  },
  {
   "cell_type": "code",
   "execution_count": null,
   "id": "3a71fd20-fc2d-45ce-bf62-a0cbbf2ba501",
   "metadata": {},
   "outputs": [],
   "source": []
  },
  {
   "cell_type": "code",
   "execution_count": null,
   "id": "da362f1d-08a0-4eb9-8cbe-f92f12e71283",
   "metadata": {},
   "outputs": [],
   "source": []
  },
  {
   "cell_type": "code",
   "execution_count": null,
   "id": "95f46591-d7ec-47c8-a693-825f0cc71d02",
   "metadata": {},
   "outputs": [],
   "source": []
  },
  {
   "cell_type": "code",
   "execution_count": null,
   "id": "87329f2d-cc43-44ca-8191-041c137e89c7",
   "metadata": {},
   "outputs": [],
   "source": []
  },
  {
   "cell_type": "code",
   "execution_count": null,
   "id": "1e46da7e-ceef-43aa-8e14-d1c48aa521f7",
   "metadata": {},
   "outputs": [],
   "source": []
  }
 ],
 "metadata": {
  "kernelspec": {
   "display_name": "Python 3 (ipykernel)",
   "language": "python",
   "name": "python3"
  },
  "language_info": {
   "codemirror_mode": {
    "name": "ipython",
    "version": 3
   },
   "file_extension": ".py",
   "mimetype": "text/x-python",
   "name": "python",
   "nbconvert_exporter": "python",
   "pygments_lexer": "ipython3",
   "version": "3.11.4"
  }
 },
 "nbformat": 4,
 "nbformat_minor": 5
}
